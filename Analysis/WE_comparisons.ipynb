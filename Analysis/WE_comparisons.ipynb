{
 "cells": [
  {
   "cell_type": "code",
   "execution_count": null,
   "metadata": {},
   "outputs": [],
   "source": [
    "from common_worker import Common_Worker as cw\n",
    "import numpy as np\n",
    "import Visualizations as vis"
   ]
  },
  {
   "cell_type": "code",
   "execution_count": null,
   "metadata": {},
   "outputs": [],
   "source": [
    "#datasets=cw([('lsc','bigram'),('td','bigram')])\n",
    "datasets=cw([('google',)],False)"
   ]
  },
  {
   "cell_type": "code",
   "execution_count": null,
   "metadata": {
    "scrolled": false
   },
   "outputs": [],
   "source": [
    "#read in antonym pairs and test points...\n",
    "f=open('../Data/Words/antonym_pairs.txt')\n",
    "antonyms = [tuple(line.rstrip('\\n').split(' ')) for line in f]\n",
    "#read in test words...\n",
    "f=open('../Data/Words/test_words.txt')\n",
    "#test_words = [line.rstrip('\\n').split(' ') for line in f]\n",
    "test_words = [tuple(line.rstrip('\\n').split(' ')) for line in f]\n",
    "datasets.set_antonym_axes(test_words,test_words,'best_overall')"
   ]
  },
  {
   "cell_type": "code",
   "execution_count": null,
   "metadata": {},
   "outputs": [],
   "source": [
    "datasets.set_bias_axis()\n",
    "\n",
    "datasets.set_projections()\n",
    "\n",
    "# int_points=datasets.get_points_by_var('overall')\n",
    "\n",
    "# #get ten best:\n",
    "# #first, get list, because dict has no order\n",
    "# items = list(int_points.items())\n",
    "# all_scores = np.array([item[1] for item in items])\n",
    "# all_words = np.array([item[0] for item in items])\n",
    "# argmax=np.argpartition(-all_scores,20)[:20]\n",
    "# int_words=all_words[argmax]\n",
    "# #get the projections\n",
    "# projections=datasets.get_projections()\n",
    "# #just for now, to see.\n",
    "# vis.vis_variances(projections,int_words)"
   ]
  },
  {
   "cell_type": "code",
   "execution_count": null,
   "metadata": {},
   "outputs": [],
   "source": []
  }
 ],
 "metadata": {
  "kernelspec": {
   "display_name": "Python 3",
   "language": "python",
   "name": "python3"
  },
  "language_info": {
   "codemirror_mode": {
    "name": "ipython",
    "version": 3
   },
   "file_extension": ".py",
   "mimetype": "text/x-python",
   "name": "python",
   "nbconvert_exporter": "python",
   "pygments_lexer": "ipython3",
   "version": "3.6.5"
  }
 },
 "nbformat": 4,
 "nbformat_minor": 2
}